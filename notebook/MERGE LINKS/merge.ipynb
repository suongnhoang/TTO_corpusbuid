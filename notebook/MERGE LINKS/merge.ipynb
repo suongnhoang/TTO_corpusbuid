{
 "cells": [
  {
   "cell_type": "code",
   "execution_count": 1,
   "metadata": {},
   "outputs": [],
   "source": [
    "import pandas as pd\n",
    "import json, codecs"
   ]
  },
  {
   "cell_type": "code",
   "execution_count": 2,
   "metadata": {},
   "outputs": [],
   "source": [
    "def read_CSV(filename):\n",
    "    return pd.DataFrame.from_csv(filename)"
   ]
  },
  {
   "cell_type": "code",
   "execution_count": 6,
   "metadata": {},
   "outputs": [],
   "source": [
    "df =pd.DataFrame(columns=['url','category','day','month','year'])\n",
    "for i in range(1, 5):\n",
    "    df2 = read_CSV(\"./VALIDS/VALIDS.\" + str(i) + \".csv\")\n",
    "    df = df.append(df2)\n",
    "    \n",
    "df.to_csv(\"./VALIDS.csv\")"
   ]
  },
  {
   "cell_type": "code",
   "execution_count": 2,
   "metadata": {},
   "outputs": [],
   "source": [
    "def write_add_file(fname, string_tuple):\n",
    "    with codecs.open(fname, 'ab', encoding='utf-8') as fout:\n",
    "        for string in string_tuple:\n",
    "            fout.write(string)\n",
    "            fout.write('\\n')\n",
    "\n",
    "def read_file(filename, num):\n",
    "    tupe = []\n",
    "    with codecs.open(filename, 'r', encoding='utf-8') as f:\n",
    "        content = f.readlines()\n",
    "    \n",
    "    for link in content:\n",
    "        link = link.split('\\n')[0]\n",
    "        tmp = link.split(',')[2]\n",
    "        tmp2 = tmp.replace(\"/\", \",\")\n",
    "        link = link.replace(tmp, tmp2)\n",
    "        tupe.append(str(num) + \",\" + link)\n",
    "        num += 1\n",
    "    return tupe, num"
   ]
  },
  {
   "cell_type": "code",
   "execution_count": 3,
   "metadata": {},
   "outputs": [],
   "source": [
    "Header = [',url,category,day,month,year']\n",
    "write_add_file(\"LINK_FINAL.csv\",Header)"
   ]
  },
  {
   "cell_type": "code",
   "execution_count": 4,
   "metadata": {},
   "outputs": [],
   "source": [
    "LINKS = []\n",
    "num = 0\n",
    "for i in range(1, 5):\n",
    "    tmp, num = read_file(\"./LINKS/LINKS.part\" + str(i), num)\n",
    "    LINKS.extend(tmp)"
   ]
  },
  {
   "cell_type": "code",
   "execution_count": 5,
   "metadata": {},
   "outputs": [],
   "source": [
    "write_add_file(\"LINK_FINAL.csv\",LINKS)"
   ]
  }
 ],
 "metadata": {
  "kernelspec": {
   "display_name": "Python 2",
   "language": "python",
   "name": "python2"
  },
  "language_info": {
   "codemirror_mode": {
    "name": "ipython",
    "version": 2
   },
   "file_extension": ".py",
   "mimetype": "text/x-python",
   "name": "python",
   "nbconvert_exporter": "python",
   "pygments_lexer": "ipython2",
   "version": "2.7.14"
  }
 },
 "nbformat": 4,
 "nbformat_minor": 2
}
