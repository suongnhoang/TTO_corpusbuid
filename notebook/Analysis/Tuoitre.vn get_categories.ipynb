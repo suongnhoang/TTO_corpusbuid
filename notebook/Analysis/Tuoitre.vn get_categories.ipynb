{
 "cells": [
  {
   "cell_type": "code",
   "execution_count": null,
   "metadata": {},
   "outputs": [],
   "source": [
    "import argparse\n",
    "import pandas as pd\n",
    "import requests\n",
    "import pickle\n",
    "from bs4 import BeautifulSoup # To parse html text\n",
    "import json, codecs"
   ]
  },
  {
   "cell_type": "markdown",
   "metadata": {},
   "source": [
    "# PATHES"
   ]
  },
  {
   "cell_type": "code",
   "execution_count": null,
   "metadata": {},
   "outputs": [],
   "source": [
    "TEMPT_file_path = './FILES/TEMPT'\n",
    "links_cvs_file_path = './FILES/LINKS_TEST.csv'\n",
    "categories_json_path = './FILES/categories.json'\n",
    "categories_dict_json_path = './FORMS/categories_dict.json'"
   ]
  },
  {
   "cell_type": "markdown",
   "metadata": {},
   "source": [
    "# BASIC FUNCTIONS"
   ]
  },
  {
   "cell_type": "code",
   "execution_count": null,
   "metadata": {},
   "outputs": [],
   "source": [
    "def parse_html(url):\n",
    "    html_content = requests.get(url).content\n",
    "    return BeautifulSoup(html_content, 'html.parser')"
   ]
  },
  {
   "cell_type": "code",
   "execution_count": null,
   "metadata": {},
   "outputs": [],
   "source": [
    "def read_CSV(filename):\n",
    "    return pd.DataFrame.from_csv(filename)"
   ]
  },
  {
   "cell_type": "markdown",
   "metadata": {},
   "source": [
    "# Create 'categories.json' and  'categories_dict.json'"
   ]
  },
  {
   "cell_type": "code",
   "execution_count": null,
   "metadata": {},
   "outputs": [],
   "source": [
    "post_url = 'https://tuoitre.vn/'\n",
    "try:\n",
    "    post_tree = parse_html(post_url)\n",
    "except:\n",
    "    print 'Cannot read ' + post_url\n",
    "\n",
    "categories = {}\n",
    "categories_dict = {}\n",
    "\n",
    "for item in post_tree.find(class_=\"clearfix fl\").find_all('a'):\n",
    "    if(item['title'] != 'Home' and item['title'] != 'Media'):\n",
    "        \n",
    "        categories_2 = {}\n",
    "        \n",
    "        if(item['href'].find('https') == -1):\n",
    "            url = 'https://tuoitre.vn' + item['href']\n",
    "            \n",
    "            categories_dict[item['href'].replace(\".htm\", \"\").replace(\"/\", \"\")] = item['title'].rstrip().lstrip()\n",
    "            \n",
    "            tree = parse_html(url)\n",
    "            \n",
    "            for item2 in tree.find(class_=\"list-bc\").find_all('a'):\n",
    "                if(item2['href'].find('https') == -1):\n",
    "                    categories_2[item2['title']] = item2['href']\n",
    "                    categories_dict[item2['href'].split(\"/\")[2].replace(\".htm\", \"\")] = item2['title'].rstrip().lstrip()\n",
    "\n",
    "            if(len(categories_2) > 0):\n",
    "                categories[item['title']] = categories_2\n",
    "            else:\n",
    "                categories[item['title']] = item['href']\n",
    "        else:\n",
    "            categories[item['title']] = item['href']\n",
    "        \n",
    "        \n",
    "with codecs.open(categories_json_path, 'w', encoding='utf-8') as fp:\n",
    "    json.dump(categories, fp, ensure_ascii=False)\n",
    "    \n",
    "with codecs.open(categories_dict_json_path, 'w', encoding='utf-8') as fp:\n",
    "    json.dump(categories_dict, fp, ensure_ascii=False)"
   ]
  },
  {
   "cell_type": "markdown",
   "metadata": {},
   "source": [
    "# create url by time"
   ]
  },
  {
   "cell_type": "code",
   "execution_count": null,
   "metadata": {},
   "outputs": [],
   "source": [
    "from datetime import datetime\n",
    "from datetime import timedelta\n",
    "\n",
    "def list_all_day_in_month(url, year, day = 1 ,month = 1):\n",
    "    url_list_in_moth = []\n",
    "    front_URL = url + \"/xem-theo-ngay/\"\n",
    "    str_date = str(year) + '-' + str(month) + '-' + str(day)\n",
    "    date_object = datetime.strptime(str_date, '%Y-%m-%d')\n",
    "    while(int(date_object.month) == month):\n",
    "        if (date_object < datetime.now()):\n",
    "            url_list_in_moth.append(front_URL + date_object.strftime('%#d-%#m-%Y') + '.html')\n",
    "            date_object += timedelta(days=1)\n",
    "        else:\n",
    "            break\n",
    "    return url_list_in_moth"
   ]
  },
  {
   "cell_type": "code",
   "execution_count": null,
   "metadata": {},
   "outputs": [],
   "source": [
    "first_year = 2008\n",
    "last_year = 2019\n",
    "\n",
    "with codecs.open(categories_json_path, 'r', encoding='utf-8') as fp:\n",
    "    categories = json.load(fp)\n",
    "    url_links = []\n",
    "\n",
    "for title1 in categories:\n",
    "    \n",
    "    back = categories[title1]\n",
    "    \n",
    "    if (isinstance(back, basestring)):\n",
    "        href = back\n",
    "        if(href.find('https') == -1):\n",
    "            url = 'https://tuoitre.vn' + href.replace(\".htm\",'')\n",
    "            for year in range(first_year, last_year):\n",
    "                    for month in range(1,13):\n",
    "                        url_links.extend(list_all_day_in_month(url, year = year, month = month))\n",
    "    else:\n",
    "        categories_lv2 = back\n",
    "        href_main = \"\"\n",
    "        for title2 in categories_lv2:\n",
    "            \n",
    "            if(categories_lv2[title2].find('https') == -1):\n",
    "                href_main = categories_lv2[title2].split('/')[1]\n",
    "                href2 = categories_lv2[title2].split('/')[2]\n",
    "                \n",
    "                url2 = 'https://tuoitre.vn/' + href2.replace(\".htm\",'')\n",
    "                for year in range(first_year, last_year):\n",
    "                        for month in range(1,13):\n",
    "                            url_links.extend(list_all_day_in_month(url2, year = year, month = month))\n",
    "                        \n",
    "        if(href_main != \"\"):\n",
    "            url_main = 'https://tuoitre.vn/' + href_main\n",
    "            for year in range(first_year, last_year):\n",
    "                for month in range(1,13):\n",
    "                    url_links.extend(list_all_day_in_month(url_main, year = year, month = month))\n",
    "\n",
    "with codecs.open(TEMPT_file_path, 'wb') as fp:\n",
    "    pickle.dump(url_links, fp)"
   ]
  },
  {
   "cell_type": "markdown",
   "metadata": {},
   "source": [
    "# get links"
   ]
  },
  {
   "cell_type": "code",
   "execution_count": null,
   "metadata": {},
   "outputs": [],
   "source": [
    "def get_links(url, date): # them do chiu dung\n",
    "    url_list = []\n",
    "    \n",
    "\n",
    "    while True:\n",
    "        tree = parse_html(url)\n",
    "        list_news_content = tree.find(class_=\"list-news-content pdt30\")\n",
    "\n",
    "        if(list_news_content != None):\n",
    "            break\n",
    "            \n",
    "    url_dict = {}\n",
    "\n",
    "    for item in list_news_content.find_all(class_=\"block-right-info fr\"):\n",
    "        url_dict['url'] = 'https://tuoitre.vn' + item.find('a')['href']\n",
    "        url_dict['category'] = url.split('/')[3]\n",
    "        url_dict['day'] = date[0]\n",
    "        url_dict['month'] = date[1]\n",
    "        url_dict['year'] = date[2]\n",
    "        \n",
    "        url_list.append(url_dict)\n",
    "    return url_list"
   ]
  },
  {
   "cell_type": "code",
   "execution_count": null,
   "metadata": {},
   "outputs": [],
   "source": [
    "def get_page_links(link):\n",
    "    links_tuple = []\n",
    "    \n",
    "    date = link.split('/')[5].replace('.html', '').split('-')\n",
    "\n",
    "    html_tree = parse_html(link)\n",
    "    mgr = html_tree.find(class_=\"page_right mgr15\")\n",
    "\n",
    "    if mgr != None:\n",
    "        mgr15 = mgr.find_all('a')\n",
    "        for item in mgr15[:len(mgr15) - 1]:\n",
    "            links_tuple.extend(get_links('https://tuoitre.vn' + item['href'], date))\n",
    "    else:\n",
    "        links_tuple.extend(get_links(link, date))\n",
    "    return links_tuple"
   ]
  },
  {
   "cell_type": "code",
   "execution_count": null,
   "metadata": {},
   "outputs": [],
   "source": [
    "from time import sleep\n",
    "\n",
    "i = 0\n",
    "\n",
    "try:\n",
    "    df  = read_CSV(links_cvs_file_path)\n",
    "except:\n",
    "    df =pd.DataFrame(columns=['url','category','day','month','year'])\n",
    "    df.to_csv(links_cvs_file_path)\n",
    "\n",
    "with codecs.open(TEMPT_file_path, 'rb') as fp:\n",
    "    url_links = pickle.load(fp)\n",
    "\n",
    "tmp = []\n",
    "\n",
    "for link in url_links:\n",
    "    \n",
    "    if(i%100 == 0 and i > 0):\n",
    "        with codecs.open(TEMPT_file_path, 'wb') as fp:\n",
    "            pickle.dump(url_links, fp)\n",
    "        df = df.append(pd.DataFrame(tmp), ignore_index=True)\n",
    "        df.to_csv(links_cvs_file_path)\n",
    "        tmp = []\n",
    "        sleep(10)\n",
    "    \n",
    "    tmp.extend(get_page_links(url_links[i]))\n",
    "    \n",
    "    url_links.remove(url_links[i])\n",
    "    \n",
    "\n",
    "    i += 1\n",
    "    print \"\\r%d %d\" %(len(url_links),len(tmp)),"
   ]
  }
 ],
 "metadata": {
  "kernelspec": {
   "display_name": "Python 2",
   "language": "python",
   "name": "python2"
  },
  "language_info": {
   "codemirror_mode": {
    "name": "ipython",
    "version": 2
   },
   "file_extension": ".py",
   "mimetype": "text/x-python",
   "name": "python",
   "nbconvert_exporter": "python",
   "pygments_lexer": "ipython2",
   "version": "2.7.14"
  }
 },
 "nbformat": 4,
 "nbformat_minor": 2
}
