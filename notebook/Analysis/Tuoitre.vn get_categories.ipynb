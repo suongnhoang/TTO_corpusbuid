{
 "cells": [
  {
   "cell_type": "code",
   "execution_count": null,
   "metadata": {},
   "outputs": [],
   "source": [
    "import argparse\n",
    "import pandas as pd\n",
    "import requests\n",
    "from bs4 import BeautifulSoup # To parse html text\n",
    "import json, codecs"
   ]
  },
  {
   "cell_type": "markdown",
   "metadata": {},
   "source": [
    "# BASIC FUNCTIONS"
   ]
  },
  {
   "cell_type": "code",
   "execution_count": null,
   "metadata": {},
   "outputs": [],
   "source": [
    "def parse_html(url):\n",
    "    html_content = requests.get(url).content\n",
    "    return BeautifulSoup(html_content, 'html.parser')"
   ]
  },
  {
   "cell_type": "code",
   "execution_count": null,
   "metadata": {},
   "outputs": [],
   "source": [
    "def write_add_file(fname, string_tuple):\n",
    "    with codecs.open(fname, 'ab', encoding='utf-8') as fout:\n",
    "        for string in string_tuple:\n",
    "            fout.write(string)\n",
    "            fout.write('\\n')\n",
    "\n",
    "def write_replace_file(fname, tupe):\n",
    "    with codecs.open(fname, 'w', encoding='utf-8') as fout:\n",
    "        for i in tupe:\n",
    "            fout.write(i)\n",
    "            fout.write('\\n')\n",
    "\n",
    "def read_file(filename):\n",
    "    tupe = []\n",
    "    with codecs.open(filename, 'r', encoding='utf-8') as f:\n",
    "        content = f.readlines()\n",
    "    for link in content:\n",
    "        link = link.split('\\n')[0]\n",
    "        tupe.append(link)\n",
    "    return tupe"
   ]
  },
  {
   "cell_type": "markdown",
   "metadata": {},
   "source": [
    "# GET 'categories.json'"
   ]
  },
  {
   "cell_type": "code",
   "execution_count": null,
   "metadata": {},
   "outputs": [],
   "source": [
    "post_url = 'https://tuoitre.vn/'\n",
    "try:\n",
    "    post_tree = parse_html(post_url)\n",
    "except:\n",
    "    print 'Cannot read ' + post_url\n",
    "\n",
    "categories = {}\n",
    "\n",
    "for item in post_tree.find(class_=\"clearfix fl\").find_all('a'):\n",
    "    if(item['title'] != 'Home' and item['title'] != 'Media'):\n",
    "        \n",
    "        categories_2 = {}\n",
    "        \n",
    "        if(item['href'].find('https') == -1):\n",
    "            url = 'https://tuoitre.vn' + item['href']\n",
    "            tree = parse_html(url)\n",
    "            for item2 in tree.find(class_=\"list-bc\").find_all('a'):\n",
    "                categories_2[item2['title']] = item2['href']\n",
    "\n",
    "            if(len(categories_2) > 0):\n",
    "                categories[item['title']] = categories_2\n",
    "            else:\n",
    "                categories[item['title']] = item['href']\n",
    "        else:\n",
    "            categories[item['title']] = item['href']\n",
    "        \n",
    "        \n",
    "with codecs.open('categories.json', 'w', encoding='utf-8') as fp:\n",
    "    json.dump(categories, fp, ensure_ascii=False)"
   ]
  },
  {
   "cell_type": "markdown",
   "metadata": {},
   "source": [
    "# create url by time"
   ]
  },
  {
   "cell_type": "code",
   "execution_count": null,
   "metadata": {},
   "outputs": [],
   "source": [
    "from datetime import datetime\n",
    "from datetime import timedelta\n",
    "def list_all_day_in_month(url, month, year):\n",
    "    url_list_in_moth = []\n",
    "    front_URL = url + \"/xem-theo-ngay/\"\n",
    "    str_date = str(year) + '-' + str(month) + '-1'\n",
    "    date_object = datetime.strptime(str_date, '%Y-%m-%d')\n",
    "    while(int(date_object.month) == month):\n",
    "        if (date_object < datetime.now()):\n",
    "            url_list_in_moth.append(front_URL + date_object.strftime('%#d-%#m-%Y') + '.html')\n",
    "            date_object += timedelta(days=1)\n",
    "        else:\n",
    "            break\n",
    "    return url_list_in_moth"
   ]
  },
  {
   "cell_type": "code",
   "execution_count": null,
   "metadata": {},
   "outputs": [],
   "source": [
    "first_year = 2008\n",
    "last_year = 2019\n",
    "\n",
    "with codecs.open('categories.json', 'r', encoding='utf-8') as fp:\n",
    "    categories = json.load(fp)\n",
    "    url_links = []\n",
    "\n",
    "for title1 in categories:\n",
    "    \n",
    "    back = categories[title1]\n",
    "    \n",
    "    if (isinstance(back, basestring)):\n",
    "        href = back\n",
    "        if(href.find('https') == -1):\n",
    "            url = 'https://tuoitre.vn' + href.replace(\".htm\",'')\n",
    "            for year in range(first_year, last_year):\n",
    "                    for month in range(1,13):\n",
    "                        url_links.extend(list_all_day_in_month(url, month, year))\n",
    "    else:\n",
    "        categories_lv2 = back\n",
    "        href_main = \"\"\n",
    "        for title2 in categories_lv2:\n",
    "            \n",
    "            if(categories_lv2[title2].find('https') == -1):\n",
    "                href_main = categories_lv2[title2].split('/')[1]\n",
    "                href2 = categories_lv2[title2].split('/')[2]\n",
    "                \n",
    "                url2 = 'https://tuoitre.vn/' + href2.replace(\".htm\",'')\n",
    "                for year in range(first_year, last_year):\n",
    "                        for month in range(1,13):\n",
    "                            url_links.extend(list_all_day_in_month(url2, month, year))\n",
    "                        \n",
    "        if(href_main != \"\"):\n",
    "            url_main = 'https://tuoitre.vn/' + href_main\n",
    "            for year in range(first_year, last_year):\n",
    "                for month in range(1,13):\n",
    "                    url_links.extend(list_all_day_in_month(url_main, month, year))\n",
    "\n",
    "write_replace_file('TEMPT',url_links)\n",
    "write_replace_file('TEMPT.BAK',url_links)"
   ]
  },
  {
   "cell_type": "markdown",
   "metadata": {},
   "source": [
    "# get links"
   ]
  },
  {
   "cell_type": "code",
   "execution_count": null,
   "metadata": {},
   "outputs": [],
   "source": [
    "def get_links(url, date): # them do chiu dung\n",
    "    url_tuple = []\n",
    "\n",
    "    while True:\n",
    "        tree = parse_html(url)\n",
    "        list_news_content = tree.find(class_=\"list-news-content pdt30\")\n",
    "\n",
    "        if(list_news_content != None):\n",
    "            break\n",
    "\n",
    "    for item in list_news_content.find_all(class_=\"block-right-info fr\"):\n",
    "        url_tuple.append('https://tuoitre.vn' + item.find('a')['href']  + ',' + url.split('/')[3] + ',' + date)\n",
    "    return url_tuple"
   ]
  },
  {
   "cell_type": "code",
   "execution_count": null,
   "metadata": {},
   "outputs": [],
   "source": [
    "def get_page_links(link):\n",
    "    links_tuple = []\n",
    "    \n",
    "    date = link.split('/')[5].replace('.html', '').replace('-', '/')\n",
    "\n",
    "    html_tree = parse_html(link)\n",
    "    mgr = html_tree.find(class_=\"page_right mgr15\")\n",
    "\n",
    "    if mgr != None:\n",
    "        mgr15 = mgr.find_all('a')\n",
    "        for item in mgr15[:len(mgr15) - 1]:\n",
    "            links_tuple.extend(get_links('https://tuoitre.vn' + item['href'], date))\n",
    "    else:\n",
    "        links_tuple.extend(get_links(link, date))\n",
    "    return links_tuple"
   ]
  },
  {
   "cell_type": "code",
   "execution_count": null,
   "metadata": {},
   "outputs": [],
   "source": [
    "from time import sleep\n",
    "\n",
    "i = 0\n",
    "\n",
    "url_links = read_file('TEMPT')\n",
    "    \n",
    "for link in url_links:\n",
    "    \n",
    "    if(i%100 == 0):\n",
    "        sleep(10)\n",
    "        \n",
    "    write_add_file('LINKS', get_page_links(url_links[i]))\n",
    "    \n",
    "    url_links.remove(url_links[i])\n",
    "    write_replace_file('TEMPT', url_links)\n",
    "\n",
    "    i += 1\n",
    "    print \"\\r%d\" %len(url_links),"
   ]
  },
  {
   "cell_type": "code",
   "execution_count": null,
   "metadata": {},
   "outputs": [],
   "source": [
    "189150/4"
   ]
  }
 ],
 "metadata": {
  "kernelspec": {
   "display_name": "Python 2",
   "language": "python",
   "name": "python2"
  },
  "language_info": {
   "codemirror_mode": {
    "name": "ipython",
    "version": 2
   },
   "file_extension": ".py",
   "mimetype": "text/x-python",
   "name": "python",
   "nbconvert_exporter": "python",
   "pygments_lexer": "ipython2",
   "version": "2.7.14"
  }
 },
 "nbformat": 4,
 "nbformat_minor": 2
}
