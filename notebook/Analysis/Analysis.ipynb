{
 "cells": [
  {
   "cell_type": "code",
   "execution_count": 1,
   "metadata": {},
   "outputs": [],
   "source": [
    "import pandas as pd\n",
    "import requests\n",
    "from bs4 import BeautifulSoup # To parse html text\n",
    "import json, codecs"
   ]
  },
  {
   "cell_type": "code",
   "execution_count": 2,
   "metadata": {},
   "outputs": [],
   "source": [
    "def read_CSV(filename = 'LINKS.csv'):\n",
    "    return pd.DataFrame.from_csv(filename)"
   ]
  },
  {
   "cell_type": "markdown",
   "metadata": {},
   "source": [
    "## Thống kê số lượng bài báo theo các khía cạnh khác nhau và tính trung bình:"
   ]
  },
  {
   "cell_type": "code",
   "execution_count": 3,
   "metadata": {},
   "outputs": [],
   "source": [
    "import matplotlib.pyplot as plt\n",
    "from matplotlib.ticker import MaxNLocator\n",
    "from collections import namedtuple\n",
    "import numpy as np"
   ]
  },
  {
   "cell_type": "markdown",
   "metadata": {},
   "source": [
    "### tạo ra danh sách các thể loại ánh xạ từ url qua tên thể loại"
   ]
  },
  {
   "cell_type": "code",
   "execution_count": 4,
   "metadata": {},
   "outputs": [],
   "source": [
    "with codecs.open('categories.json', 'r', encoding='utf-8') as fp:\n",
    "    categories = json.load(fp)\n",
    "    url_links = []\n",
    "    \n",
    "categories_dict = {}\n",
    "\n",
    "for title1 in categories:\n",
    "    \n",
    "    back = categories[title1]\n",
    "    \n",
    "    if (isinstance(back, basestring)):\n",
    "        href = back\n",
    "        if(href.find('https') == -1):\n",
    "            categories_dict[title1]  = href.replace(\".htm\",'').replace(\"/\", \"\")\n",
    "            \n",
    "    else:\n",
    "        categories_lv2 = back\n",
    "        href_main = \"\"\n",
    "        for title2 in categories_lv2:\n",
    "            \n",
    "            if(categories_lv2[title2].find('https') == -1):\n",
    "                href_main = categories_lv2[title2].split('/')[1]\n",
    "                href2 = categories_lv2[title2].split('/')[2]\n",
    "                \n",
    "                categories_dict[title2] = href2.replace(\".htm\",'')\n",
    "                        \n",
    "        if(href_main != \"\"):\n",
    "            categories_dict[title1] = href_main"
   ]
  },
  {
   "cell_type": "markdown",
   "metadata": {},
   "source": [
    "## đọc data từ file csv"
   ]
  },
  {
   "cell_type": "code",
   "execution_count": 5,
   "metadata": {},
   "outputs": [],
   "source": [
    "df = read_CSV()"
   ]
  },
  {
   "cell_type": "markdown",
   "metadata": {},
   "source": [
    "## lọc các url bị trùng do gắn nhiều tag thể loại"
   ]
  },
  {
   "cell_type": "code",
   "execution_count": 6,
   "metadata": {},
   "outputs": [],
   "source": [
    "df = df.drop_duplicates(subset=['url'])\n",
    "df = df.reset_index(drop=True)\n",
    "df.to_csv('LINKS_FINAL.csv')"
   ]
  },
  {
   "cell_type": "markdown",
   "metadata": {},
   "source": [
    "## data frame theo thể loại"
   ]
  },
  {
   "cell_type": "code",
   "execution_count": 36,
   "metadata": {},
   "outputs": [
    {
     "name": "stdout",
     "output_type": "stream",
     "text": [
      "6491\n"
     ]
    }
   ],
   "source": [
    "categories_number_post = {}\n",
    "\n",
    "for u in categories_dict:\n",
    "    categories_number_post[u] = len(df[df.category == categories_dict[u]])\n",
    "categories_number_post_list = [categories_number_post]\n",
    "\n",
    "categories_df = pd.DataFrame(categories_number_post_list)\n",
    "categories_df = categories_df.transpose()\n",
    "categories_df.columns = ['post']\n",
    "categories_df = categories_df.sort_values(by=['post'], ascending=False)\n",
    "categories_df.to_csv(\"./statistic/categories.csv\", encoding = \"utf-8\")"
   ]
  },
  {
   "cell_type": "markdown",
   "metadata": {},
   "source": [
    "## data frame theo năm"
   ]
  },
  {
   "cell_type": "code",
   "execution_count": 8,
   "metadata": {},
   "outputs": [],
   "source": [
    "year_number_post = {}\n",
    "\n",
    "for i in range(2008,2019):\n",
    "    year_number_post[i] = len(df[df.year == i])\n",
    "year_number_post_list = [year_number_post]\n",
    "\n",
    "year_df = pd.DataFrame(year_number_post_list)\n",
    "year_df = year_df.transpose()\n",
    "year_df.columns = ['post']\n",
    "year_df.to_csv(\"./statistic/year.csv\", encoding = \"utf-8\")"
   ]
  },
  {
   "cell_type": "markdown",
   "metadata": {},
   "source": [
    "## data frame trung bình các bài báo từng thể loại theo mỗi năm"
   ]
  },
  {
   "cell_type": "code",
   "execution_count": 61,
   "metadata": {},
   "outputs": [
    {
     "data": {
      "text/html": [
       "<div>\n",
       "<style>\n",
       "    .dataframe thead tr:only-child th {\n",
       "        text-align: right;\n",
       "    }\n",
       "\n",
       "    .dataframe thead th {\n",
       "        text-align: left;\n",
       "    }\n",
       "\n",
       "    .dataframe tbody tr th {\n",
       "        vertical-align: top;\n",
       "    }\n",
       "</style>\n",
       "<table border=\"1\" class=\"dataframe\">\n",
       "  <thead>\n",
       "    <tr style=\"text-align: right;\">\n",
       "      <th></th>\n",
       "      <th>post</th>\n",
       "    </tr>\n",
       "  </thead>\n",
       "  <tbody>\n",
       "    <tr>\n",
       "      <th>Xã hội</th>\n",
       "      <td>7879</td>\n",
       "    </tr>\n",
       "    <tr>\n",
       "      <th>Thế giới</th>\n",
       "      <td>4759</td>\n",
       "    </tr>\n",
       "    <tr>\n",
       "      <th>Văn hóa</th>\n",
       "      <td>2631</td>\n",
       "    </tr>\n",
       "    <tr>\n",
       "      <th>Kinh doanh</th>\n",
       "      <td>2430</td>\n",
       "    </tr>\n",
       "    <tr>\n",
       "      <th>Pháp luật</th>\n",
       "      <td>2317</td>\n",
       "    </tr>\n",
       "    <tr>\n",
       "      <th>Sức khỏe</th>\n",
       "      <td>1767</td>\n",
       "    </tr>\n",
       "    <tr>\n",
       "      <th>Giáo dục</th>\n",
       "      <td>1464</td>\n",
       "    </tr>\n",
       "    <tr>\n",
       "      <th>Nhịp sống trẻ</th>\n",
       "      <td>944</td>\n",
       "    </tr>\n",
       "    <tr>\n",
       "      <th>Tài chính</th>\n",
       "      <td>734</td>\n",
       "    </tr>\n",
       "    <tr>\n",
       "      <th>Đời sống</th>\n",
       "      <td>637</td>\n",
       "    </tr>\n",
       "    <tr>\n",
       "      <th>Phóng sự</th>\n",
       "      <td>576</td>\n",
       "    </tr>\n",
       "    <tr>\n",
       "      <th>Âm nhạc</th>\n",
       "      <td>563</td>\n",
       "    </tr>\n",
       "    <tr>\n",
       "      <th>Điện ảnh</th>\n",
       "      <td>550</td>\n",
       "    </tr>\n",
       "    <tr>\n",
       "      <th>Thời sự</th>\n",
       "      <td>464</td>\n",
       "    </tr>\n",
       "    <tr>\n",
       "      <th>Muôn màu</th>\n",
       "      <td>430</td>\n",
       "    </tr>\n",
       "    <tr>\n",
       "      <th>Việc làm</th>\n",
       "      <td>380</td>\n",
       "    </tr>\n",
       "    <tr>\n",
       "      <th>TV Show</th>\n",
       "      <td>340</td>\n",
       "    </tr>\n",
       "    <tr>\n",
       "      <th>Nghĩ</th>\n",
       "      <td>323</td>\n",
       "    </tr>\n",
       "    <tr>\n",
       "      <th>Khoa học</th>\n",
       "      <td>260</td>\n",
       "    </tr>\n",
       "    <tr>\n",
       "      <th>Xe</th>\n",
       "      <td>249</td>\n",
       "    </tr>\n",
       "    <tr>\n",
       "      <th>Yêu</th>\n",
       "      <td>236</td>\n",
       "    </tr>\n",
       "    <tr>\n",
       "      <th>Học đường</th>\n",
       "      <td>185</td>\n",
       "    </tr>\n",
       "    <tr>\n",
       "      <th>Thời trang</th>\n",
       "      <td>139</td>\n",
       "    </tr>\n",
       "    <tr>\n",
       "      <th>Phòng mạch</th>\n",
       "      <td>138</td>\n",
       "    </tr>\n",
       "    <tr>\n",
       "      <th>Biết để khỏe</th>\n",
       "      <td>104</td>\n",
       "    </tr>\n",
       "    <tr>\n",
       "      <th>Doanh nghiệp</th>\n",
       "      <td>83</td>\n",
       "    </tr>\n",
       "    <tr>\n",
       "      <th>Kiều bào</th>\n",
       "      <td>79</td>\n",
       "    </tr>\n",
       "    <tr>\n",
       "      <th>Câu chuyện giáo dục</th>\n",
       "      <td>69</td>\n",
       "    </tr>\n",
       "    <tr>\n",
       "      <th>Bình luận</th>\n",
       "      <td>52</td>\n",
       "    </tr>\n",
       "    <tr>\n",
       "      <th>Hồ sơ</th>\n",
       "      <td>47</td>\n",
       "    </tr>\n",
       "    <tr>\n",
       "      <th>Hậu trường</th>\n",
       "      <td>45</td>\n",
       "    </tr>\n",
       "    <tr>\n",
       "      <th>Thư giãn</th>\n",
       "      <td>44</td>\n",
       "    </tr>\n",
       "    <tr>\n",
       "      <th>Xu hướng</th>\n",
       "      <td>31</td>\n",
       "    </tr>\n",
       "    <tr>\n",
       "      <th>Mẹ &amp; Bé</th>\n",
       "      <td>23</td>\n",
       "    </tr>\n",
       "    <tr>\n",
       "      <th>Đầu tư</th>\n",
       "      <td>21</td>\n",
       "    </tr>\n",
       "    <tr>\n",
       "      <th>Mua sắm</th>\n",
       "      <td>17</td>\n",
       "    </tr>\n",
       "    <tr>\n",
       "      <th>Chuyện pháp đình</th>\n",
       "      <td>14</td>\n",
       "    </tr>\n",
       "    <tr>\n",
       "      <th>Tư vấn</th>\n",
       "      <td>12</td>\n",
       "    </tr>\n",
       "    <tr>\n",
       "      <th>Giới tính</th>\n",
       "      <td>12</td>\n",
       "    </tr>\n",
       "    <tr>\n",
       "      <th>Phát minh</th>\n",
       "      <td>10</td>\n",
       "    </tr>\n",
       "    <tr>\n",
       "      <th>Khám phá</th>\n",
       "      <td>9</td>\n",
       "    </tr>\n",
       "    <tr>\n",
       "      <th>Giả-thật</th>\n",
       "      <td>8</td>\n",
       "    </tr>\n",
       "    <tr>\n",
       "      <th>Giải trí</th>\n",
       "      <td>8</td>\n",
       "    </tr>\n",
       "    <tr>\n",
       "      <th>Văn học - Sách</th>\n",
       "      <td>7</td>\n",
       "    </tr>\n",
       "    <tr>\n",
       "      <th>Pháp lý</th>\n",
       "      <td>5</td>\n",
       "    </tr>\n",
       "    <tr>\n",
       "      <th>Dinh dưỡng</th>\n",
       "      <td>5</td>\n",
       "    </tr>\n",
       "    <tr>\n",
       "      <th>Nhân vật</th>\n",
       "      <td>4</td>\n",
       "    </tr>\n",
       "    <tr>\n",
       "      <th>Du học</th>\n",
       "      <td>4</td>\n",
       "    </tr>\n",
       "    <tr>\n",
       "      <th>Góc học tập</th>\n",
       "      <td>2</td>\n",
       "    </tr>\n",
       "    <tr>\n",
       "      <th>Thường thức</th>\n",
       "      <td>2</td>\n",
       "    </tr>\n",
       "  </tbody>\n",
       "</table>\n",
       "</div>"
      ],
      "text/plain": [
       "                     post\n",
       "Xã hội               7879\n",
       "Thế giới             4759\n",
       "Văn hóa              2631\n",
       "Kinh doanh           2430\n",
       "Pháp luật            2317\n",
       "Sức khỏe             1767\n",
       "Giáo dục             1464\n",
       "Nhịp sống trẻ         944\n",
       "Tài chính             734\n",
       "Đời sống              637\n",
       "Phóng sự              576\n",
       "Âm nhạc               563\n",
       " Điện ảnh             550\n",
       "Thời sự               464\n",
       "Muôn màu              430\n",
       "Việc làm              380\n",
       "TV Show               340\n",
       "Nghĩ                  323\n",
       "Khoa học              260\n",
       "Xe                    249\n",
       "Yêu                   236\n",
       "Học đường             185\n",
       "Thời trang            139\n",
       "Phòng mạch            138\n",
       "Biết để khỏe          104\n",
       "Doanh nghiệp           83\n",
       "Kiều bào               79\n",
       "Câu chuyện giáo dục    69\n",
       "Bình luận              52\n",
       "Hồ sơ                  47\n",
       "Hậu trường             45\n",
       "Thư giãn               44\n",
       "Xu hướng               31\n",
       "Mẹ & Bé                23\n",
       "Đầu tư                 21\n",
       "Mua sắm                17\n",
       "Chuyện pháp đình       14\n",
       "Tư vấn                 12\n",
       "Giới tính              12\n",
       "Phát minh              10\n",
       "Khám phá                9\n",
       "Giả-thật                8\n",
       "Giải trí                8\n",
       "Văn học - Sách          7\n",
       "Pháp lý                 5\n",
       "Dinh dưỡng              5\n",
       "Nhân vật                4\n",
       "Du học                  4\n",
       "Góc học tập             2\n",
       "Thường thức             2"
      ]
     },
     "execution_count": 61,
     "metadata": {},
     "output_type": "execute_result"
    }
   ],
   "source": [
    "categoriesr_post_per_year = {}\n",
    "categoriesr_mean_per_year = {}\n",
    "\n",
    "for u in categories_dict:\n",
    "    categoriesr_year = {}\n",
    "    sum_post = 0\n",
    "    df_tmp = df[df.category == categories_dict[u]]\n",
    "    \n",
    "    for i in range(2008,2018):\n",
    "        categoriesr_year[i] = len(df_tmp[df_tmp.year == i])\n",
    "        sum_post += len(df_tmp[df_tmp.year == i])\n",
    "    categoriesr_post_per_year[u] = categoriesr_year\n",
    "    categoriesr_mean_per_year[u] = sum_post/len(categoriesr_year)\n",
    "\n",
    "with codecs.open('categories_per_year.json', 'w', encoding='utf-8') as fp:\n",
    "    json.dump(categoriesr_post_per_year, fp, ensure_ascii=False)\n",
    "\n",
    "categoriesr_mean_per_year_list = [categoriesr_mean_per_year]\n",
    "\n",
    "per_year_df = pd.DataFrame(categoriesr_mean_per_year_list)\n",
    "per_year_df = per_year_df.transpose()\n",
    "per_year_df.columns = ['post']\n",
    "per_year_df = per_year_df.sort_values(by=['post'], ascending=False)\n",
    "per_year_df.to_csv(\"./statistic/mean_year.csv\", encoding = \"utf-8\")\n",
    "per_year_df"
   ]
  },
  {
   "cell_type": "markdown",
   "metadata": {},
   "source": [
    "## thể hiện trên biểu đồ"
   ]
  },
  {
   "cell_type": "code",
   "execution_count": 9,
   "metadata": {},
   "outputs": [
    {
     "data": {
      "text/plain": [
       "<matplotlib.axes._subplots.AxesSubplot at 0xdc4b550>"
      ]
     },
     "execution_count": 9,
     "metadata": {},
     "output_type": "execute_result"
    },
    {
     "data": {
      "image/png": "[encoded data removed]",
      "text/plain": [
       "<matplotlib.figure.Figure at 0xdc53ef0>"
      ]
     },
     "metadata": {},
     "output_type": "display_data"
    }
   ],
   "source": [
    "%matplotlib inline\n",
    "categories_df.plot.bar(figsize=(20,8))"
   ]
  },
  {
   "cell_type": "code",
   "execution_count": 10,
   "metadata": {},
   "outputs": [
    {
     "data": {
      "text/plain": [
       "<matplotlib.axes._subplots.AxesSubplot at 0xdf54e80>"
      ]
     },
     "execution_count": 10,
     "metadata": {},
     "output_type": "execute_result"
    },
    {
     "data": {
      "image/png": "[encoded data removed]",
      "text/plain": [
       "<matplotlib.figure.Figure at 0x14f4f0f0>"
      ]
     },
     "metadata": {},
     "output_type": "display_data"
    }
   ],
   "source": [
    "year_df.plot.bar(figsize=(20,8))"
   ]
  },
  {
   "cell_type": "code",
   "execution_count": 60,
   "metadata": {},
   "outputs": [
    {
     "data": {
      "text/plain": [
       "<matplotlib.axes._subplots.AxesSubplot at 0xdd535c0>"
      ]
     },
     "execution_count": 60,
     "metadata": {},
     "output_type": "execute_result"
    },
    {
     "data": {
      "image/png": "[encoded data removed]",
      "text/plain": [
       "<matplotlib.figure.Figure at 0x14214518>"
      ]
     },
     "metadata": {},
     "output_type": "display_data"
    }
   ],
   "source": [
    "per_year_df.plot.bar(figsize=(20,8))"
   ]
  },
  {
   "cell_type": "markdown",
   "metadata": {},
   "source": [
    "# Tính trung bình"
   ]
  },
  {
   "cell_type": "code",
   "execution_count": 37,
   "metadata": {
    "scrolled": true
   },
   "outputs": [
    {
     "data": {
      "text/plain": [
       "6491"
      ]
     },
     "execution_count": 37,
     "metadata": {},
     "output_type": "execute_result"
    }
   ],
   "source": [
    "int(categories_df[\"post\"].mean())"
   ]
  },
  {
   "cell_type": "markdown",
   "metadata": {},
   "source": [
    "**Kết luận:** Trung bình mỗi một thể loại sẽ có 6491 bài báo."
   ]
  },
  {
   "cell_type": "code",
   "execution_count": 14,
   "metadata": {},
   "outputs": [
    {
     "data": {
      "text/plain": [
       "29508"
      ]
     },
     "execution_count": 14,
     "metadata": {},
     "output_type": "execute_result"
    }
   ],
   "source": [
    "int(year_df[\"post\"].mean())"
   ]
  },
  {
   "cell_type": "markdown",
   "metadata": {},
   "source": [
    "**Kết luận:** Mỗi năm trung bình 29508 bài trên 1 thể loại"
   ]
  },
  {
   "cell_type": "markdown",
   "metadata": {},
   "source": [
    "### Lựa chọn cho từng thể loại là 23170 bài để cân bằng số bài các thể loại có bài báo nhiều"
   ]
  },
  {
   "cell_type": "code",
   "execution_count": 63,
   "metadata": {},
   "outputs": [],
   "source": [
    "NUM_OF_YEAR = 2317"
   ]
  },
  {
   "cell_type": "markdown",
   "metadata": {},
   "source": [
    "## Tao DATA FRAME LINK:"
   ]
  },
  {
   "cell_type": "code",
   "execution_count": 78,
   "metadata": {},
   "outputs": [
    {
     "name": "stderr",
     "output_type": "stream",
     "text": [
      "E:\\program\\anaconda2\\lib\\site-packages\\ipykernel_launcher.py:13: DeprecationWarning: \n",
      ".ix is deprecated. Please use\n",
      ".loc for label based indexing or\n",
      ".iloc for positional indexing\n",
      "\n",
      "See the documentation here:\n",
      "http://pandas.pydata.org/pandas-docs/stable/indexing.html#ix-indexer-is-deprecated\n",
      "  del sys.path[0]\n"
     ]
    }
   ],
   "source": [
    "df2 =pd.DataFrame(columns=['url','category','day','month','year'])\n",
    "post = 0\n",
    "for u in categories_dict:\n",
    "    df_tmp = df[df.category == categories_dict[u]]\n",
    "    for i in range(2008,2019):\n",
    "        df_year_tmp = df_tmp[df_tmp.year == i]\n",
    "        np.random.seed(None)\n",
    "        perm = np.random.permutation(df_year_tmp.index)\n",
    "        if(NUM_OF_YEAR > len(df_year_tmp)):\n",
    "            df2 = df2.append(df_year_tmp)\n",
    "            post += len(df_year_tmp)\n",
    "        else:\n",
    "            df2 = df2.append(df_year_tmp.ix[perm[:NUM_OF_YEAR]])\n",
    "            post += NUM_OF_YEAR"
   ]
  },
  {
   "cell_type": "code",
   "execution_count": 79,
   "metadata": {},
   "outputs": [
    {
     "data": {
      "text/plain": [
       "234554"
      ]
     },
     "execution_count": 79,
     "metadata": {},
     "output_type": "execute_result"
    }
   ],
   "source": [
    "post"
   ]
  },
  {
   "cell_type": "code",
   "execution_count": 81,
   "metadata": {},
   "outputs": [],
   "source": [
    "df2.to_csv(\"GETLINKS.csv\")"
   ]
  }
 ],
 "metadata": {
  "kernelspec": {
   "display_name": "Python 2",
   "language": "python",
   "name": "python2"
  },
  "language_info": {
   "codemirror_mode": {
    "name": "ipython",
    "version": 2
   },
   "file_extension": ".py",
   "mimetype": "text/x-python",
   "name": "python",
   "nbconvert_exporter": "python",
   "pygments_lexer": "ipython2",
   "version": "2.7.14"
  }
 },
 "nbformat": 4,
 "nbformat_minor": 2
}
