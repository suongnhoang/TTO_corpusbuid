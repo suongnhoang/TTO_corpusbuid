{
 "cells": [
  {
   "cell_type": "code",
   "execution_count": 1,
   "metadata": {},
   "outputs": [],
   "source": [
    "import pandas as pd"
   ]
  },
  {
   "cell_type": "code",
   "execution_count": 2,
   "metadata": {},
   "outputs": [],
   "source": [
    "def read_CSV(filename = 'GETLINKS.FULL.csv'):\n",
    "    return pd.DataFrame.from_csv(filename)"
   ]
  },
  {
   "cell_type": "code",
   "execution_count": 3,
   "metadata": {},
   "outputs": [],
   "source": [
    "df = read_CSV()"
   ]
  },
  {
   "cell_type": "code",
   "execution_count": 4,
   "metadata": {},
   "outputs": [],
   "source": [
    "n = 1500\n",
    "\n",
    "df_copy = df\n",
    "\n",
    "i = 0\n",
    "\n",
    "NTB = False\n",
    "\n",
    "while(True):\n",
    "    if(n <= len(df_copy)):\n",
    "        df_tmp = df_copy[:n]\n",
    "        df_copy = df_copy[n:]\n",
    "    else:\n",
    "        df_tmp = df_copy\n",
    "        NTB = True\n",
    "    \n",
    "    df_tmp.to_csv(str(i)+\".csv\")\n",
    "    \n",
    "    i += 1\n",
    "    \n",
    "    if(NTB):\n",
    "        break"
   ]
  }
 ],
 "metadata": {
  "kernelspec": {
   "display_name": "Python 2",
   "language": "python",
   "name": "python2"
  },
  "language_info": {
   "codemirror_mode": {
    "name": "ipython",
    "version": 2
   },
   "file_extension": ".py",
   "mimetype": "text/x-python",
   "name": "python",
   "nbconvert_exporter": "python",
   "pygments_lexer": "ipython2",
   "version": "2.7.14"
  }
 },
 "nbformat": 4,
 "nbformat_minor": 2
}
